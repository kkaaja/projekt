{
 "cells": [
  {
   "cell_type": "code",
   "execution_count": 1,
   "id": "bf640722",
   "metadata": {},
   "outputs": [],
   "source": [
    "import pandas as pd\n",
    "import numpy as np\n",
    "import matplotlib.pyplot as plt\n",
    "import datetime\n",
    "import time"
   ]
  },
  {
   "cell_type": "code",
   "execution_count": 35,
   "id": "e5a11fd7",
   "metadata": {},
   "outputs": [],
   "source": [
    "df1 = pd.read_csv(\"litery-czas2.txt\")"
   ]
  },
  {
   "cell_type": "code",
   "execution_count": 36,
   "id": "bb92985a",
   "metadata": {},
   "outputs": [
    {
     "data": {
      "text/html": [
       "<div>\n",
       "<style scoped>\n",
       "    .dataframe tbody tr th:only-of-type {\n",
       "        vertical-align: middle;\n",
       "    }\n",
       "\n",
       "    .dataframe tbody tr th {\n",
       "        vertical-align: top;\n",
       "    }\n",
       "\n",
       "    .dataframe thead th {\n",
       "        text-align: right;\n",
       "    }\n",
       "</style>\n",
       "<table border=\"1\" class=\"dataframe\">\n",
       "  <thead>\n",
       "    <tr style=\"text-align: right;\">\n",
       "      <th></th>\n",
       "      <th>a</th>\n",
       "      <th>czas: 1669883568.909073</th>\n",
       "    </tr>\n",
       "  </thead>\n",
       "  <tbody>\n",
       "    <tr>\n",
       "      <th>0</th>\n",
       "      <td>b</td>\n",
       "      <td>czas: 1669883569.9139771</td>\n",
       "    </tr>\n",
       "    <tr>\n",
       "      <th>1</th>\n",
       "      <td>c</td>\n",
       "      <td>czas: 1669883570.9172354</td>\n",
       "    </tr>\n",
       "    <tr>\n",
       "      <th>2</th>\n",
       "      <td>d</td>\n",
       "      <td>czas: 1669883571.919477</td>\n",
       "    </tr>\n",
       "    <tr>\n",
       "      <th>3</th>\n",
       "      <td>e</td>\n",
       "      <td>czas: 1669883572.9227993</td>\n",
       "    </tr>\n",
       "    <tr>\n",
       "      <th>4</th>\n",
       "      <td>f</td>\n",
       "      <td>czas: 1669883573.9252052</td>\n",
       "    </tr>\n",
       "    <tr>\n",
       "      <th>5</th>\n",
       "      <td>g</td>\n",
       "      <td>czas: 1669883574.93042</td>\n",
       "    </tr>\n",
       "    <tr>\n",
       "      <th>6</th>\n",
       "      <td>h</td>\n",
       "      <td>czas: 1669883575.9361084</td>\n",
       "    </tr>\n",
       "    <tr>\n",
       "      <th>7</th>\n",
       "      <td>i</td>\n",
       "      <td>czas: 1669883576.9376025</td>\n",
       "    </tr>\n",
       "    <tr>\n",
       "      <th>8</th>\n",
       "      <td>j</td>\n",
       "      <td>czas: 1669883577.940784</td>\n",
       "    </tr>\n",
       "    <tr>\n",
       "      <th>9</th>\n",
       "      <td>k</td>\n",
       "      <td>czas: 1669883578.9449012</td>\n",
       "    </tr>\n",
       "    <tr>\n",
       "      <th>10</th>\n",
       "      <td>l</td>\n",
       "      <td>czas: 1669883579.9473703</td>\n",
       "    </tr>\n",
       "    <tr>\n",
       "      <th>11</th>\n",
       "      <td>ł</td>\n",
       "      <td>czas: 1669883580.9530644</td>\n",
       "    </tr>\n",
       "    <tr>\n",
       "      <th>12</th>\n",
       "      <td>m</td>\n",
       "      <td>czas: 1669883581.9556081</td>\n",
       "    </tr>\n",
       "    <tr>\n",
       "      <th>13</th>\n",
       "      <td>n</td>\n",
       "      <td>czas: 1669883582.9612026</td>\n",
       "    </tr>\n",
       "    <tr>\n",
       "      <th>14</th>\n",
       "      <td>o</td>\n",
       "      <td>czas: 1669883583.9658685</td>\n",
       "    </tr>\n",
       "    <tr>\n",
       "      <th>15</th>\n",
       "      <td>p</td>\n",
       "      <td>czas: 1669883584.9705377</td>\n",
       "    </tr>\n",
       "    <tr>\n",
       "      <th>16</th>\n",
       "      <td>r</td>\n",
       "      <td>czas: 1669883585.9765208</td>\n",
       "    </tr>\n",
       "    <tr>\n",
       "      <th>17</th>\n",
       "      <td>s</td>\n",
       "      <td>czas: 1669883586.9826722</td>\n",
       "    </tr>\n",
       "    <tr>\n",
       "      <th>18</th>\n",
       "      <td>t</td>\n",
       "      <td>czas: 1669883587.9853399</td>\n",
       "    </tr>\n",
       "    <tr>\n",
       "      <th>19</th>\n",
       "      <td>u</td>\n",
       "      <td>czas: 1669883588.9903429</td>\n",
       "    </tr>\n",
       "    <tr>\n",
       "      <th>20</th>\n",
       "      <td>w</td>\n",
       "      <td>czas: 1669883589.9929047</td>\n",
       "    </tr>\n",
       "    <tr>\n",
       "      <th>21</th>\n",
       "      <td>x</td>\n",
       "      <td>czas: 1669883590.9984226</td>\n",
       "    </tr>\n",
       "  </tbody>\n",
       "</table>\n",
       "</div>"
      ],
      "text/plain": [
       "    a    czas: 1669883568.909073\n",
       "0   b   czas: 1669883569.9139771\n",
       "1   c   czas: 1669883570.9172354\n",
       "2   d    czas: 1669883571.919477\n",
       "3   e   czas: 1669883572.9227993\n",
       "4   f   czas: 1669883573.9252052\n",
       "5   g     czas: 1669883574.93042\n",
       "6   h   czas: 1669883575.9361084\n",
       "7   i   czas: 1669883576.9376025\n",
       "8   j    czas: 1669883577.940784\n",
       "9   k   czas: 1669883578.9449012\n",
       "10  l   czas: 1669883579.9473703\n",
       "11  ł   czas: 1669883580.9530644\n",
       "12  m   czas: 1669883581.9556081\n",
       "13  n   czas: 1669883582.9612026\n",
       "14  o   czas: 1669883583.9658685\n",
       "15  p   czas: 1669883584.9705377\n",
       "16  r   czas: 1669883585.9765208\n",
       "17  s   czas: 1669883586.9826722\n",
       "18  t   czas: 1669883587.9853399\n",
       "19  u   czas: 1669883588.9903429\n",
       "20  w   czas: 1669883589.9929047\n",
       "21  x   czas: 1669883590.9984226"
      ]
     },
     "execution_count": 36,
     "metadata": {},
     "output_type": "execute_result"
    }
   ],
   "source": [
    "df1"
   ]
  },
  {
   "cell_type": "code",
   "execution_count": 41,
   "id": "c8747b11",
   "metadata": {},
   "outputs": [],
   "source": [
    "df=pd.read_csv(\"dane_02-12_09_32-kopia.txt\")\n"
   ]
  },
  {
   "cell_type": "code",
   "execution_count": 39,
   "id": "e7d79577",
   "metadata": {},
   "outputs": [
    {
     "ename": "AttributeError",
     "evalue": "type object 'datetime.datetime' has no attribute 'frontimestamp'",
     "output_type": "error",
     "traceback": [
      "\u001b[1;31m---------------------------------------------------------------------------\u001b[0m",
      "\u001b[1;31mAttributeError\u001b[0m                            Traceback (most recent call last)",
      "Cell \u001b[1;32mIn [39], line 1\u001b[0m\n\u001b[1;32m----> 1\u001b[0m \u001b[43mdatetime\u001b[49m\u001b[38;5;241;43m.\u001b[39;49m\u001b[43mdatetime\u001b[49m\u001b[38;5;241;43m.\u001b[39;49m\u001b[43mfrontimestamp\u001b[49m(df[\u001b[38;5;124m\"\u001b[39m\u001b[38;5;124m time\u001b[39m\u001b[38;5;124m\"\u001b[39m][\u001b[38;5;241m0\u001b[39m])\n",
      "\u001b[1;31mAttributeError\u001b[0m: type object 'datetime.datetime' has no attribute 'frontimestamp'"
     ]
    }
   ],
   "source": [
    "datetime.datetime.frontimestamp(df[\" time\"][0])"
   ]
  },
  {
   "cell_type": "code",
   "execution_count": 42,
   "id": "c8222cc1",
   "metadata": {},
   "outputs": [
    {
     "data": {
      "text/html": [
       "<div>\n",
       "<style scoped>\n",
       "    .dataframe tbody tr th:only-of-type {\n",
       "        vertical-align: middle;\n",
       "    }\n",
       "\n",
       "    .dataframe tbody tr th {\n",
       "        vertical-align: top;\n",
       "    }\n",
       "\n",
       "    .dataframe thead th {\n",
       "        text-align: right;\n",
       "    }\n",
       "</style>\n",
       "<table border=\"1\" class=\"dataframe\">\n",
       "  <thead>\n",
       "    <tr style=\"text-align: right;\">\n",
       "      <th></th>\n",
       "      <th>signal</th>\n",
       "      <th>time</th>\n",
       "    </tr>\n",
       "  </thead>\n",
       "  <tbody>\n",
       "    <tr>\n",
       "      <th>0</th>\n",
       "      <td>-35616.457367</td>\n",
       "      <td>1.669884e+09</td>\n",
       "    </tr>\n",
       "    <tr>\n",
       "      <th>1</th>\n",
       "      <td>-116718.349814</td>\n",
       "      <td>1.669884e+09</td>\n",
       "    </tr>\n",
       "    <tr>\n",
       "      <th>2</th>\n",
       "      <td>-163923.931774</td>\n",
       "      <td>1.669884e+09</td>\n",
       "    </tr>\n",
       "    <tr>\n",
       "      <th>3</th>\n",
       "      <td>-147323.380161</td>\n",
       "      <td>1.669884e+09</td>\n",
       "    </tr>\n",
       "    <tr>\n",
       "      <th>4</th>\n",
       "      <td>-111005.282261</td>\n",
       "      <td>1.669884e+09</td>\n",
       "    </tr>\n",
       "    <tr>\n",
       "      <th>...</th>\n",
       "      <td>...</td>\n",
       "      <td>...</td>\n",
       "    </tr>\n",
       "    <tr>\n",
       "      <th>6403</th>\n",
       "      <td>4186.673161</td>\n",
       "      <td>1.669884e+09</td>\n",
       "    </tr>\n",
       "    <tr>\n",
       "      <th>6404</th>\n",
       "      <td>-2459.010031</td>\n",
       "      <td>1.669884e+09</td>\n",
       "    </tr>\n",
       "    <tr>\n",
       "      <th>6405</th>\n",
       "      <td>-6679.829271</td>\n",
       "      <td>1.669884e+09</td>\n",
       "    </tr>\n",
       "    <tr>\n",
       "      <th>6406</th>\n",
       "      <td>-3025.466761</td>\n",
       "      <td>1.669884e+09</td>\n",
       "    </tr>\n",
       "    <tr>\n",
       "      <th>6407</th>\n",
       "      <td>794.964566</td>\n",
       "      <td>1.669884e+09</td>\n",
       "    </tr>\n",
       "  </tbody>\n",
       "</table>\n",
       "<p>6408 rows × 2 columns</p>\n",
       "</div>"
      ],
      "text/plain": [
       "             signal          time\n",
       "0     -35616.457367  1.669884e+09\n",
       "1    -116718.349814  1.669884e+09\n",
       "2    -163923.931774  1.669884e+09\n",
       "3    -147323.380161  1.669884e+09\n",
       "4    -111005.282261  1.669884e+09\n",
       "...             ...           ...\n",
       "6403    4186.673161  1.669884e+09\n",
       "6404   -2459.010031  1.669884e+09\n",
       "6405   -6679.829271  1.669884e+09\n",
       "6406   -3025.466761  1.669884e+09\n",
       "6407     794.964566  1.669884e+09\n",
       "\n",
       "[6408 rows x 2 columns]"
      ]
     },
     "execution_count": 42,
     "metadata": {},
     "output_type": "execute_result"
    }
   ],
   "source": [
    "df"
   ]
  },
  {
   "cell_type": "code",
   "execution_count": 43,
   "id": "ef3f7b58",
   "metadata": {},
   "outputs": [
    {
     "data": {
      "text/plain": [
       "[<matplotlib.lines.Line2D at 0x1fefed786d0>]"
      ]
     },
     "execution_count": 43,
     "metadata": {},
     "output_type": "execute_result"
    },
    {
     "data": {
      "image/png": "[encoded data removed]",
      "text/plain": [
       "<Figure size 640x480 with 1 Axes>"
      ]
     },
     "metadata": {},
     "output_type": "display_data"
    }
   ],
   "source": [
    "t = np.linspace(0, len(df['signal'])/250, len(df['signal']))\n",
    "plt.plot(t, df['signal'])"
   ]
  },
  {
   "cell_type": "code",
   "execution_count": 45,
   "id": "ecb63456",
   "metadata": {},
   "outputs": [],
   "source": [
    "sygnal = np.array(df['signal'][250:])"
   ]
  },
  {
   "cell_type": "code",
   "execution_count": 48,
   "id": "cc9389b5",
   "metadata": {},
   "outputs": [
    {
     "data": {
      "text/plain": [
       "(5.0, 12.0)"
      ]
     },
     "execution_count": 48,
     "metadata": {},
     "output_type": "execute_result"
    },
    {
     "data": {
      "image/png": "[encoded data removed]",
      "text/plain": [
       "<Figure size 640x480 with 1 Axes>"
      ]
     },
     "metadata": {},
     "output_type": "display_data"
    }
   ],
   "source": [
    "t = np.linspace(0, len(sygnal)/250, len(sygnal))\n",
    "plt.plot(t, sygnal)\n",
    "plt.xlim([5,12])"
   ]
  }
 ],
 "metadata": {
  "kernelspec": {
   "display_name": "Python 3 (ipykernel)",
   "language": "python",
   "name": "python3"
  },
  "language_info": {
   "codemirror_mode": {
    "name": "ipython",
    "version": 3
   },
   "file_extension": ".py",
   "mimetype": "text/x-python",
   "name": "python",
   "nbconvert_exporter": "python",
   "pygments_lexer": "ipython3",
   "version": "3.10.8"
  }
 },
 "nbformat": 4,
 "nbformat_minor": 5
}
