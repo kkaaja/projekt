{
 "cells": [
  {
   "cell_type": "code",
   "execution_count": 20,
   "id": "be9d55d5",
   "metadata": {},
   "outputs": [],
   "source": [
    "import pandas as pd\n",
    "import numpy as np\n",
    "import matplotlib.pyplot as plt\n"
   ]
  },
  {
   "cell_type": "code",
   "execution_count": 21,
   "id": "e511dba4",
   "metadata": {},
   "outputs": [],
   "source": [
    "df = pd.read_csv('dane2.csv')"
   ]
  },
  {
   "cell_type": "code",
   "execution_count": 22,
   "id": "0e286fe6",
   "metadata": {},
   "outputs": [
    {
     "data": {
      "text/html": [
       "<div>\n",
       "<style scoped>\n",
       "    .dataframe tbody tr th:only-of-type {\n",
       "        vertical-align: middle;\n",
       "    }\n",
       "\n",
       "    .dataframe tbody tr th {\n",
       "        vertical-align: top;\n",
       "    }\n",
       "\n",
       "    .dataframe thead th {\n",
       "        text-align: right;\n",
       "    }\n",
       "</style>\n",
       "<table border=\"1\" class=\"dataframe\">\n",
       "  <thead>\n",
       "    <tr style=\"text-align: right;\">\n",
       "      <th></th>\n",
       "      <th>signal</th>\n",
       "      <th>time</th>\n",
       "    </tr>\n",
       "  </thead>\n",
       "  <tbody>\n",
       "    <tr>\n",
       "      <th>0</th>\n",
       "      <td>-35616.457367</td>\n",
       "      <td>1.669884e+09</td>\n",
       "    </tr>\n",
       "    <tr>\n",
       "      <th>1</th>\n",
       "      <td>-116718.349814</td>\n",
       "      <td>1.669884e+09</td>\n",
       "    </tr>\n",
       "    <tr>\n",
       "      <th>2</th>\n",
       "      <td>-163923.931774</td>\n",
       "      <td>1.669884e+09</td>\n",
       "    </tr>\n",
       "    <tr>\n",
       "      <th>3</th>\n",
       "      <td>-147323.380161</td>\n",
       "      <td>1.669884e+09</td>\n",
       "    </tr>\n",
       "    <tr>\n",
       "      <th>4</th>\n",
       "      <td>-111005.282261</td>\n",
       "      <td>1.669884e+09</td>\n",
       "    </tr>\n",
       "    <tr>\n",
       "      <th>...</th>\n",
       "      <td>...</td>\n",
       "      <td>...</td>\n",
       "    </tr>\n",
       "    <tr>\n",
       "      <th>6403</th>\n",
       "      <td>4186.673161</td>\n",
       "      <td>1.669884e+09</td>\n",
       "    </tr>\n",
       "    <tr>\n",
       "      <th>6404</th>\n",
       "      <td>-2459.010031</td>\n",
       "      <td>1.669884e+09</td>\n",
       "    </tr>\n",
       "    <tr>\n",
       "      <th>6405</th>\n",
       "      <td>-6679.829271</td>\n",
       "      <td>1.669884e+09</td>\n",
       "    </tr>\n",
       "    <tr>\n",
       "      <th>6406</th>\n",
       "      <td>-3025.466761</td>\n",
       "      <td>1.669884e+09</td>\n",
       "    </tr>\n",
       "    <tr>\n",
       "      <th>6407</th>\n",
       "      <td>794.964566</td>\n",
       "      <td>1.669884e+09</td>\n",
       "    </tr>\n",
       "  </tbody>\n",
       "</table>\n",
       "<p>6408 rows × 2 columns</p>\n",
       "</div>"
      ],
      "text/plain": [
       "             signal          time\n",
       "0     -35616.457367  1.669884e+09\n",
       "1    -116718.349814  1.669884e+09\n",
       "2    -163923.931774  1.669884e+09\n",
       "3    -147323.380161  1.669884e+09\n",
       "4    -111005.282261  1.669884e+09\n",
       "...             ...           ...\n",
       "6403    4186.673161  1.669884e+09\n",
       "6404   -2459.010031  1.669884e+09\n",
       "6405   -6679.829271  1.669884e+09\n",
       "6406   -3025.466761  1.669884e+09\n",
       "6407     794.964566  1.669884e+09\n",
       "\n",
       "[6408 rows x 2 columns]"
      ]
     },
     "execution_count": 22,
     "metadata": {},
     "output_type": "execute_result"
    }
   ],
   "source": [
    "df"
   ]
  },
  {
   "cell_type": "code",
   "execution_count": 23,
   "id": "1b714074",
   "metadata": {},
   "outputs": [],
   "source": [
    "litery = pd.read_csv(\"litery-czas2.txt\")"
   ]
  },
  {
   "cell_type": "code",
   "execution_count": 24,
   "id": "c5d9009c",
   "metadata": {},
   "outputs": [
    {
     "data": {
      "text/html": [
       "<div>\n",
       "<style scoped>\n",
       "    .dataframe tbody tr th:only-of-type {\n",
       "        vertical-align: middle;\n",
       "    }\n",
       "\n",
       "    .dataframe tbody tr th {\n",
       "        vertical-align: top;\n",
       "    }\n",
       "\n",
       "    .dataframe thead th {\n",
       "        text-align: right;\n",
       "    }\n",
       "</style>\n",
       "<table border=\"1\" class=\"dataframe\">\n",
       "  <thead>\n",
       "    <tr style=\"text-align: right;\">\n",
       "      <th></th>\n",
       "      <th>litera</th>\n",
       "      <th>czas</th>\n",
       "    </tr>\n",
       "  </thead>\n",
       "  <tbody>\n",
       "    <tr>\n",
       "      <th>0</th>\n",
       "      <td>a</td>\n",
       "      <td>1.669884e+09</td>\n",
       "    </tr>\n",
       "    <tr>\n",
       "      <th>1</th>\n",
       "      <td>b</td>\n",
       "      <td>1.669884e+09</td>\n",
       "    </tr>\n",
       "    <tr>\n",
       "      <th>2</th>\n",
       "      <td>c</td>\n",
       "      <td>1.669884e+09</td>\n",
       "    </tr>\n",
       "    <tr>\n",
       "      <th>3</th>\n",
       "      <td>d</td>\n",
       "      <td>1.669884e+09</td>\n",
       "    </tr>\n",
       "    <tr>\n",
       "      <th>4</th>\n",
       "      <td>e</td>\n",
       "      <td>1.669884e+09</td>\n",
       "    </tr>\n",
       "    <tr>\n",
       "      <th>5</th>\n",
       "      <td>f</td>\n",
       "      <td>1.669884e+09</td>\n",
       "    </tr>\n",
       "    <tr>\n",
       "      <th>6</th>\n",
       "      <td>g</td>\n",
       "      <td>1.669884e+09</td>\n",
       "    </tr>\n",
       "    <tr>\n",
       "      <th>7</th>\n",
       "      <td>h</td>\n",
       "      <td>1.669884e+09</td>\n",
       "    </tr>\n",
       "    <tr>\n",
       "      <th>8</th>\n",
       "      <td>i</td>\n",
       "      <td>1.669884e+09</td>\n",
       "    </tr>\n",
       "    <tr>\n",
       "      <th>9</th>\n",
       "      <td>j</td>\n",
       "      <td>1.669884e+09</td>\n",
       "    </tr>\n",
       "    <tr>\n",
       "      <th>10</th>\n",
       "      <td>k</td>\n",
       "      <td>1.669884e+09</td>\n",
       "    </tr>\n",
       "    <tr>\n",
       "      <th>11</th>\n",
       "      <td>l</td>\n",
       "      <td>1.669884e+09</td>\n",
       "    </tr>\n",
       "    <tr>\n",
       "      <th>12</th>\n",
       "      <td>ł</td>\n",
       "      <td>1.669884e+09</td>\n",
       "    </tr>\n",
       "    <tr>\n",
       "      <th>13</th>\n",
       "      <td>m</td>\n",
       "      <td>1.669884e+09</td>\n",
       "    </tr>\n",
       "    <tr>\n",
       "      <th>14</th>\n",
       "      <td>n</td>\n",
       "      <td>1.669884e+09</td>\n",
       "    </tr>\n",
       "    <tr>\n",
       "      <th>15</th>\n",
       "      <td>o</td>\n",
       "      <td>1.669884e+09</td>\n",
       "    </tr>\n",
       "    <tr>\n",
       "      <th>16</th>\n",
       "      <td>p</td>\n",
       "      <td>1.669884e+09</td>\n",
       "    </tr>\n",
       "    <tr>\n",
       "      <th>17</th>\n",
       "      <td>r</td>\n",
       "      <td>1.669884e+09</td>\n",
       "    </tr>\n",
       "    <tr>\n",
       "      <th>18</th>\n",
       "      <td>s</td>\n",
       "      <td>1.669884e+09</td>\n",
       "    </tr>\n",
       "    <tr>\n",
       "      <th>19</th>\n",
       "      <td>t</td>\n",
       "      <td>1.669884e+09</td>\n",
       "    </tr>\n",
       "    <tr>\n",
       "      <th>20</th>\n",
       "      <td>u</td>\n",
       "      <td>1.669884e+09</td>\n",
       "    </tr>\n",
       "    <tr>\n",
       "      <th>21</th>\n",
       "      <td>w</td>\n",
       "      <td>1.669884e+09</td>\n",
       "    </tr>\n",
       "    <tr>\n",
       "      <th>22</th>\n",
       "      <td>x</td>\n",
       "      <td>1.669884e+09</td>\n",
       "    </tr>\n",
       "  </tbody>\n",
       "</table>\n",
       "</div>"
      ],
      "text/plain": [
       "   litera          czas\n",
       "0       a  1.669884e+09\n",
       "1       b  1.669884e+09\n",
       "2       c  1.669884e+09\n",
       "3       d  1.669884e+09\n",
       "4       e  1.669884e+09\n",
       "5       f  1.669884e+09\n",
       "6       g  1.669884e+09\n",
       "7       h  1.669884e+09\n",
       "8       i  1.669884e+09\n",
       "9       j  1.669884e+09\n",
       "10      k  1.669884e+09\n",
       "11      l  1.669884e+09\n",
       "12      ł  1.669884e+09\n",
       "13      m  1.669884e+09\n",
       "14      n  1.669884e+09\n",
       "15      o  1.669884e+09\n",
       "16      p  1.669884e+09\n",
       "17      r  1.669884e+09\n",
       "18      s  1.669884e+09\n",
       "19      t  1.669884e+09\n",
       "20      u  1.669884e+09\n",
       "21      w  1.669884e+09\n",
       "22      x  1.669884e+09"
      ]
     },
     "execution_count": 24,
     "metadata": {},
     "output_type": "execute_result"
    }
   ],
   "source": [
    "litery"
   ]
  },
  {
   "cell_type": "code",
   "execution_count": 25,
   "id": "9c2c54bd",
   "metadata": {},
   "outputs": [
    {
     "data": {
      "text/plain": [
       "[<matplotlib.lines.Line2D at 0x16f016a1a50>]"
      ]
     },
     "execution_count": 25,
     "metadata": {},
     "output_type": "execute_result"
    },
    {
     "data": {
      "image/png": "[encoded data removed]",
      "text/plain": [
       "<Figure size 640x480 with 1 Axes>"
      ]
     },
     "metadata": {},
     "output_type": "display_data"
    }
   ],
   "source": [
    "t = np.linspace(0, len(df['signal'])/250, len(df['signal']))\n",
    "plt.plot(t, df['signal'])"
   ]
  },
  {
   "cell_type": "code",
   "execution_count": 26,
   "id": "c1380820",
   "metadata": {},
   "outputs": [],
   "source": [
    "sygnal = np.array(df['signal'][250:])"
   ]
  },
  {
   "cell_type": "code",
   "execution_count": 27,
   "id": "7fedf096",
   "metadata": {},
   "outputs": [
    {
     "data": {
      "text/plain": [
       "(15.0, 19.0)"
      ]
     },
     "execution_count": 27,
     "metadata": {},
     "output_type": "execute_result"
    },
    {
     "data": {
      "image/png": "[encoded data removed]",
      "text/plain": [
       "<Figure size 640x480 with 1 Axes>"
      ]
     },
     "metadata": {},
     "output_type": "display_data"
    }
   ],
   "source": [
    "t = np.linspace(0, len(sygnal)/250, len(sygnal))\n",
    "plt.plot(t, sygnal)\n",
    "plt.xlim([15,19])"
   ]
  },
  {
   "cell_type": "code",
   "execution_count": 112,
   "id": "b506632e",
   "metadata": {},
   "outputs": [],
   "source": [
    "lista=[]\n",
    "for i in range(len(sygnal)):\n",
    "    if sygnal[i]<-30000 and sygnal[i-1]>-30000:\n",
    "        lista.append(df['time'][i])\n",
    "lista1=lista[:]       "
   ]
  },
  {
   "cell_type": "code",
   "execution_count": 113,
   "id": "59bdd9b6",
   "metadata": {},
   "outputs": [
    {
     "name": "stdout",
     "output_type": "stream",
     "text": [
      "[1669883564.7166934, 1669883571.0537329, 1669883583.1408136, 1669883583.1430297, 1669883583.1946056, 1669883587.5292685]\n",
      "[1669883564.7166934, 1669883571.0537329, 1669883583.1408136, 1669883583.1430297, 1669883583.1946056, 1669883587.5292685]\n"
     ]
    }
   ],
   "source": [
    "print(lista)\n",
    "print(lista1)"
   ]
  },
  {
   "cell_type": "code",
   "execution_count": 115,
   "id": "a39c9033",
   "metadata": {},
   "outputs": [
    {
     "name": "stdout",
     "output_type": "stream",
     "text": [
      "1669883571.0537329\n",
      "1669883583.1408136\n",
      "1669883587.5292685\n",
      "[1669883564.7166934, 1669883571.0537329, 1669883583.1430297, 1669883587.5292685]\n"
     ]
    }
   ],
   "source": [
    "for i in range(len(lista1)-1):\n",
    "    if lista1[i+1]-lista1[i]<0.3:\n",
    "        lista.remove(lista[i])\n",
    "        i+1\n",
    "      \n",
    "    else:\n",
    "        print(lista1[i+1])\n",
    "\n",
    "print(lista) \n"
   ]
  },
  {
   "cell_type": "code",
   "execution_count": 118,
   "id": "6147275e",
   "metadata": {},
   "outputs": [],
   "source": [
    "slowo=[]\n",
    "for i in range(len(lista)): \n",
    "    for y in range(len(litery)):\n",
    "            if lista[i] >= litery['czas'][y] and lista[i] < litery['czas'][y+1]:\n",
    "                slowo.append(litery['litera'][y+1])\n",
    "                i+1\n",
    "            else:\n",
    "                y+1\n",
    "    "
   ]
  },
  {
   "cell_type": "code",
   "execution_count": 119,
   "id": "22ccefcf",
   "metadata": {},
   "outputs": [
    {
     "name": "stdout",
     "output_type": "stream",
     "text": [
      "dot\n"
     ]
    }
   ],
   "source": [
    "slowo_ostateczne=''.join(slowo)\n",
    "print(slowo_ostateczne)"
   ]
  },
  {
   "cell_type": "code",
   "execution_count": 77,
   "id": "c747beb3",
   "metadata": {},
   "outputs": [
    {
     "name": "stdout",
     "output_type": "stream",
     "text": [
      "6.337039470672607\n",
      "12.087080717086792\n",
      "0.0022161006927490234\n",
      "0.05157589912414551\n",
      "4.334662914276123\n"
     ]
    }
   ],
   "source": [
    "for i in range (len(lista)-1):\n",
    "    print(lista[i+1]-lista[i])"
   ]
  },
  {
   "cell_type": "code",
   "execution_count": 29,
   "id": "ecbf54b8",
   "metadata": {},
   "outputs": [
    {
     "name": "stdout",
     "output_type": "stream",
     "text": [
      "308  1669883564.7166934\n",
      "1593  1669883571.0537329\n",
      "4029  1669883583.1408136\n",
      "4035  1669883583.1430297\n",
      "4041  1669883583.1946056\n",
      "4912  1669883587.5292685\n"
     ]
    }
   ],
   "source": [
    "for i in range(len(sygnal)):\n",
    "    if sygnal[i]<-30000 and sygnal[i-1]>-30000:\n",
    "        print(i,'', df['time'][i])"
   ]
  },
  {
   "cell_type": "code",
   "execution_count": 30,
   "id": "74ba35b7",
   "metadata": {},
   "outputs": [],
   "source": [
    "slowo=[]\n",
    "for i in range(len(sygnal)):\n",
    "    if sygnal[i]<-30000 and sygnal[i-1]>-30000:\n",
    "        for y in range(len(litery)):\n",
    "            if df['time'][i] >= litery['czas'][y] and df['time'][i] < litery['czas'][y+1]:\n",
    "                slowo.append(litery['litera'][y+1])\n",
    "                i+1\n",
    "            else:\n",
    "                y+1"
   ]
  },
  {
   "cell_type": "code",
   "execution_count": 31,
   "id": "6e65c75d",
   "metadata": {},
   "outputs": [
    {
     "name": "stdout",
     "output_type": "stream",
     "text": [
      "dooot\n"
     ]
    }
   ],
   "source": [
    "slowo_ostateczne= ''.join(slowo)\n",
    "print(slowo_ostateczne)"
   ]
  },
  {
   "cell_type": "code",
   "execution_count": 47,
   "id": "e8769674",
   "metadata": {},
   "outputs": [],
   "source": [
    "slowo=[]\n",
    "\n",
    "for y in range(len(litery)):\n",
    "    if lista[i] >= litery['czas'][y] and lista[i] < litery['czas'][y+1]:\n",
    "        for i in range(len(lista)-1):\n",
    "            if lista[i+1]-lista[i]>0.02:\n",
    "                print(litery['litera'][y+1])\n",
    "                i+1\n",
    "            else:\n",
    "                i+1"
   ]
  },
  {
   "cell_type": "code",
   "execution_count": null,
   "id": "7cb026cc",
   "metadata": {},
   "outputs": [],
   "source": []
  }
 ],
 "metadata": {
  "kernelspec": {
   "display_name": "Python 3 (ipykernel)",
   "language": "python",
   "name": "python3"
  },
  "language_info": {
   "codemirror_mode": {
    "name": "ipython",
    "version": 3
   },
   "file_extension": ".py",
   "mimetype": "text/x-python",
   "name": "python",
   "nbconvert_exporter": "python",
   "pygments_lexer": "ipython3",
   "version": "3.10.7"
  }
 },
 "nbformat": 4,
 "nbformat_minor": 5
}
