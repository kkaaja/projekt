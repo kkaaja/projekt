{
 "cells": [
  {
   "cell_type": "code",
   "execution_count": 1,
   "id": "76ae0bb9",
   "metadata": {},
   "outputs": [],
   "source": [
    "import pandas as pd\n",
    "import numpy as np\n",
    "import matplotlib.pyplot as plt\n",
    "import datetime\n",
    "import time"
   ]
  },
  {
   "cell_type": "code",
   "execution_count": 18,
   "id": "44d62991",
   "metadata": {},
   "outputs": [],
   "source": [
    "df = pd.read_csv(\"dane_01-12_09_27.txt\")"
   ]
  },
  {
   "cell_type": "code",
   "execution_count": 19,
   "id": "e2cec579",
   "metadata": {},
   "outputs": [
    {
     "data": {
      "text/html": [
       "<div>\n",
       "<style scoped>\n",
       "    .dataframe tbody tr th:only-of-type {\n",
       "        vertical-align: middle;\n",
       "    }\n",
       "\n",
       "    .dataframe tbody tr th {\n",
       "        vertical-align: top;\n",
       "    }\n",
       "\n",
       "    .dataframe thead th {\n",
       "        text-align: right;\n",
       "    }\n",
       "</style>\n",
       "<table border=\"1\" class=\"dataframe\">\n",
       "  <thead>\n",
       "    <tr style=\"text-align: right;\">\n",
       "      <th></th>\n",
       "      <th>signal</th>\n",
       "      <th>time</th>\n",
       "    </tr>\n",
       "  </thead>\n",
       "  <tbody>\n",
       "    <tr>\n",
       "      <th>0</th>\n",
       "      <td>-40699.525910</td>\n",
       "      <td>1.669883e+09</td>\n",
       "    </tr>\n",
       "    <tr>\n",
       "      <th>1</th>\n",
       "      <td>-133376.024838</td>\n",
       "      <td>1.669883e+09</td>\n",
       "    </tr>\n",
       "    <tr>\n",
       "      <th>2</th>\n",
       "      <td>-187318.638676</td>\n",
       "      <td>1.669883e+09</td>\n",
       "    </tr>\n",
       "    <tr>\n",
       "      <th>3</th>\n",
       "      <td>-167879.556197</td>\n",
       "      <td>1.669883e+09</td>\n",
       "    </tr>\n",
       "    <tr>\n",
       "      <th>4</th>\n",
       "      <td>-122064.788672</td>\n",
       "      <td>1.669883e+09</td>\n",
       "    </tr>\n",
       "    <tr>\n",
       "      <th>...</th>\n",
       "      <td>...</td>\n",
       "      <td>...</td>\n",
       "    </tr>\n",
       "    <tr>\n",
       "      <th>30836</th>\n",
       "      <td>-2429.374557</td>\n",
       "      <td>1.669883e+09</td>\n",
       "    </tr>\n",
       "    <tr>\n",
       "      <th>30837</th>\n",
       "      <td>-4520.273580</td>\n",
       "      <td>1.669883e+09</td>\n",
       "    </tr>\n",
       "    <tr>\n",
       "      <th>30838</th>\n",
       "      <td>-1913.449870</td>\n",
       "      <td>1.669883e+09</td>\n",
       "    </tr>\n",
       "    <tr>\n",
       "      <th>30839</th>\n",
       "      <td>-278.854289</td>\n",
       "      <td>1.669883e+09</td>\n",
       "    </tr>\n",
       "    <tr>\n",
       "      <th>30840</th>\n",
       "      <td>276.364436</td>\n",
       "      <td>1.669883e+09</td>\n",
       "    </tr>\n",
       "  </tbody>\n",
       "</table>\n",
       "<p>30841 rows × 2 columns</p>\n",
       "</div>"
      ],
      "text/plain": [
       "              signal          time\n",
       "0      -40699.525910  1.669883e+09\n",
       "1     -133376.024838  1.669883e+09\n",
       "2     -187318.638676  1.669883e+09\n",
       "3     -167879.556197  1.669883e+09\n",
       "4     -122064.788672  1.669883e+09\n",
       "...              ...           ...\n",
       "30836   -2429.374557  1.669883e+09\n",
       "30837   -4520.273580  1.669883e+09\n",
       "30838   -1913.449870  1.669883e+09\n",
       "30839    -278.854289  1.669883e+09\n",
       "30840     276.364436  1.669883e+09\n",
       "\n",
       "[30841 rows x 2 columns]"
      ]
     },
     "execution_count": 19,
     "metadata": {},
     "output_type": "execute_result"
    }
   ],
   "source": [
    "df"
   ]
  },
  {
   "cell_type": "code",
   "execution_count": 27,
   "id": "26845532",
   "metadata": {},
   "outputs": [],
   "source": [
    "litery = pd.read_csv(\"litery-czas1-kopia.txt\")"
   ]
  },
  {
   "cell_type": "code",
   "execution_count": 28,
   "id": "3c60b056",
   "metadata": {},
   "outputs": [
    {
     "data": {
      "text/html": [
       "<div>\n",
       "<style scoped>\n",
       "    .dataframe tbody tr th:only-of-type {\n",
       "        vertical-align: middle;\n",
       "    }\n",
       "\n",
       "    .dataframe tbody tr th {\n",
       "        vertical-align: top;\n",
       "    }\n",
       "\n",
       "    .dataframe thead th {\n",
       "        text-align: right;\n",
       "    }\n",
       "</style>\n",
       "<table border=\"1\" class=\"dataframe\">\n",
       "  <thead>\n",
       "    <tr style=\"text-align: right;\">\n",
       "      <th></th>\n",
       "      <th>litera</th>\n",
       "      <th>czas</th>\n",
       "    </tr>\n",
       "  </thead>\n",
       "  <tbody>\n",
       "    <tr>\n",
       "      <th>0</th>\n",
       "      <td>a</td>\n",
       "      <td>1.669883e+09</td>\n",
       "    </tr>\n",
       "    <tr>\n",
       "      <th>1</th>\n",
       "      <td>b</td>\n",
       "      <td>1.669883e+09</td>\n",
       "    </tr>\n",
       "    <tr>\n",
       "      <th>2</th>\n",
       "      <td>c</td>\n",
       "      <td>1.669883e+09</td>\n",
       "    </tr>\n",
       "    <tr>\n",
       "      <th>3</th>\n",
       "      <td>d</td>\n",
       "      <td>1.669883e+09</td>\n",
       "    </tr>\n",
       "    <tr>\n",
       "      <th>4</th>\n",
       "      <td>e</td>\n",
       "      <td>1.669883e+09</td>\n",
       "    </tr>\n",
       "    <tr>\n",
       "      <th>...</th>\n",
       "      <td>...</td>\n",
       "      <td>...</td>\n",
       "    </tr>\n",
       "    <tr>\n",
       "      <th>79</th>\n",
       "      <td>e</td>\n",
       "      <td>1.669883e+09</td>\n",
       "    </tr>\n",
       "    <tr>\n",
       "      <th>80</th>\n",
       "      <td>f</td>\n",
       "      <td>1.669883e+09</td>\n",
       "    </tr>\n",
       "    <tr>\n",
       "      <th>81</th>\n",
       "      <td>g</td>\n",
       "      <td>1.669883e+09</td>\n",
       "    </tr>\n",
       "    <tr>\n",
       "      <th>82</th>\n",
       "      <td>h</td>\n",
       "      <td>1.669883e+09</td>\n",
       "    </tr>\n",
       "    <tr>\n",
       "      <th>83</th>\n",
       "      <td>i</td>\n",
       "      <td>1.669883e+09</td>\n",
       "    </tr>\n",
       "  </tbody>\n",
       "</table>\n",
       "<p>84 rows × 2 columns</p>\n",
       "</div>"
      ],
      "text/plain": [
       "   litera          czas\n",
       "0       a  1.669883e+09\n",
       "1       b  1.669883e+09\n",
       "2       c  1.669883e+09\n",
       "3       d  1.669883e+09\n",
       "4       e  1.669883e+09\n",
       "..    ...           ...\n",
       "79      e  1.669883e+09\n",
       "80      f  1.669883e+09\n",
       "81      g  1.669883e+09\n",
       "82      h  1.669883e+09\n",
       "83      i  1.669883e+09\n",
       "\n",
       "[84 rows x 2 columns]"
      ]
     },
     "execution_count": 28,
     "metadata": {},
     "output_type": "execute_result"
    }
   ],
   "source": [
    "litery"
   ]
  },
  {
   "cell_type": "code",
   "execution_count": 29,
   "id": "a707d5e2",
   "metadata": {},
   "outputs": [
    {
     "data": {
      "text/plain": [
       "[<matplotlib.lines.Line2D at 0x18feb8701c0>]"
      ]
     },
     "execution_count": 29,
     "metadata": {},
     "output_type": "execute_result"
    },
    {
     "data": {
      "image/png": "[encoded data removed]",
      "text/plain": [
       "<Figure size 432x288 with 1 Axes>"
      ]
     },
     "metadata": {
      "needs_background": "light"
     },
     "output_type": "display_data"
    }
   ],
   "source": [
    "t = np.linspace(0, len(df['signal'])/250, len(df['signal']))\n",
    "plt.plot(t, df['signal'])"
   ]
  },
  {
   "cell_type": "code",
   "execution_count": 23,
   "id": "eb33d560",
   "metadata": {},
   "outputs": [],
   "source": [
    "sygnal = np.array(df['signal'][250:])"
   ]
  },
  {
   "cell_type": "code",
   "execution_count": 24,
   "id": "ee6bd943",
   "metadata": {},
   "outputs": [
    {
     "data": {
      "text/plain": [
       "(15.0, 19.0)"
      ]
     },
     "execution_count": 24,
     "metadata": {},
     "output_type": "execute_result"
    },
    {
     "data": {
      "image/png": "[encoded data removed]",
      "text/plain": [
       "<Figure size 432x288 with 1 Axes>"
      ]
     },
     "metadata": {
      "needs_background": "light"
     },
     "output_type": "display_data"
    }
   ],
   "source": [
    "t = np.linspace(0, len(sygnal)/250, len(sygnal))\n",
    "plt.plot(t, sygnal)\n",
    "plt.xlim([15,19])"
   ]
  },
  {
   "cell_type": "code",
   "execution_count": 26,
   "id": "fb2df082",
   "metadata": {},
   "outputs": [],
   "source": [
    "for i in range(len(sygnal)):\n",
    "    if sygnal[i]<-30000 and sygnal[i-1]>-30000:\n",
    "        for y in range(len(litery)):\n",
    "            if df['time'][i] >= litery['czas'][y] and df['time'][i] < litery['czas'][y+1]:\n",
    "                print(litery['litera'][y+1])\n",
    "                i+1\n",
    "            else:\n",
    "                y+1"
   ]
  }
 ],
 "metadata": {
  "kernelspec": {
   "display_name": "Python 3",
   "language": "python",
   "name": "python3"
  },
  "language_info": {
   "codemirror_mode": {
    "name": "ipython",
    "version": 3
   },
   "file_extension": ".py",
   "mimetype": "text/x-python",
   "name": "python",
   "nbconvert_exporter": "python",
   "pygments_lexer": "ipython3",
   "version": "3.8.8"
  }
 },
 "nbformat": 4,
 "nbformat_minor": 5
}
